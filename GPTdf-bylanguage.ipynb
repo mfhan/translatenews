{
 "cells": [
  {
   "cell_type": "markdown",
   "id": "a96918b7-911a-4be1-94c1-7c7b064bcd22",
   "metadata": {},
   "source": [
    "### Translating and Comparing News Headlines: step by step  "
   ]
  },
  {
   "cell_type": "markdown",
   "id": "2f814d4a-a9ab-4c5a-894e-012b2575cb60",
   "metadata": {},
   "source": [
    "#### Comparing headlines across languages is cumbersome; doing an automated sentiment analysis on a sampling used to be very complex before the advent of ChatGPT"
   ]
  },
  {
   "cell_type": "code",
   "execution_count": 1,
   "id": "5c73e76c-f5d4-47eb-9b41-944803b290c6",
   "metadata": {},
   "outputs": [],
   "source": [
    "import pathlib\n",
    "import textwrap\n",
    "\n",
    "import google.generativeai as genai\n",
    "\n",
    "from IPython.display import display\n",
    "from IPython.display import Markdown\n",
    "from dotenv import load_dotenv\n",
    "\n",
    "def to_markdown(text):\n",
    "  text = text.replace('•', '  *')\n",
    "  return Markdown(textwrap.indent(text, '> ', predicate=lambda _: True))"
   ]
  },
  {
   "cell_type": "code",
   "execution_count": 2,
   "id": "963617c3-fbca-4038-81b9-924a2083a7dd",
   "metadata": {},
   "outputs": [],
   "source": [
    "import openai\n",
    "import os\n",
    "import requests\n",
    "import bs4"
   ]
  },
  {
   "cell_type": "code",
   "execution_count": 3,
   "id": "30b69a95-b43c-470d-9a69-898f50daa2f7",
   "metadata": {},
   "outputs": [],
   "source": [
    "load_dotenv()\n",
    "api_key = os.environ.get(\"API_KEY\")"
   ]
  },
  {
   "cell_type": "code",
   "execution_count": 4,
   "id": "ed6316da-c74c-4a7b-85c6-cc5c4de6077d",
   "metadata": {},
   "outputs": [],
   "source": [
    "openai.api_key = os.getenv(\"API_KEY\")"
   ]
  },
  {
   "cell_type": "code",
   "execution_count": 5,
   "id": "5fc1a8b3-9d3f-43a0-979e-e82f37b94e10",
   "metadata": {},
   "outputs": [
    {
     "name": "stdout",
     "output_type": "stream",
     "text": [
      "('https://aljazeera.net', 'h3.article-card__title')\n"
     ]
    }
   ],
   "source": [
    "news_sites = {\n",
    "    \"chinese\" : (\"https://cn.chinadaily.com.cn\", \"div.Home_content_Item_Text h1 a\"),\n",
    "    \"arabic\": (\"https://aljazeera.net\", \"h3.article-card__title\")\n",
    "}\n",
    "print(news_sites[\"arabic\"])"
   ]
  },
  {
   "cell_type": "code",
   "execution_count": 6,
   "id": "b96c430a-b70e-432b-9358-cb31659b92fa",
   "metadata": {},
   "outputs": [
    {
     "data": {
      "text/plain": [
       "{'chinese': ['专题：全国政协十四届二次会议新闻发布会',\n",
       "  '十四届全国人大二次会议将于3月4日12时举行新闻发布会',\n",
       "  '多国人士关注中国两会 期待中国为全球发展贡献更多动力',\n",
       "  '住陕全国政协委员肩负三秦儿女重托 满怀履职热情赴京参会',\n",
       "  '把握时代机遇 共绘同心圆 全国政协委员积极履职尽责、建言献策',\n",
       "  '刘结一：全国政协将继续聚焦中国式现代化目标任务献计出力',\n",
       "  '今年两会首场发布会，要点来了→',\n",
       "  '全国爱耳日 ：6问6答带你了解如何“爱耳”',\n",
       "  '刘结一：中国经济长期向好态势将持续巩固和增强',\n",
       "  '全国政协十四届二次会议会期6天 将举办三场“委员通道”'],\n",
       " 'arabic': ['الحرب على غزة.. الاحتلال يكثف قصف رفح ويصعّد بالضفة',\n",
       "  'تسجيل صوتي يظهر قيام جنود إسرائيليين بقتل أسيرين في غزة رغم استغاثتهما',\n",
       "  'تسجيل صوتي يظهر قيام جنود إسرائيليين بقتل أسيرين في غزة رغم استغاثتهما',\n",
       "  'نائبة الرئيس الأميركي: ما نراه في غزة مدمر ويجب إعلان وقف إطلاق النار ...',\n",
       "  'حماس تؤكد جديتها بالتفاوض وأنباء عن مقاطعة إسرائيل لاجتماع القاهرة',\n",
       "  'آخرها ما حدث بجنين.. لماذا يصر أمن السلطة على ملاحقة المقاومة بالضفة؟',\n",
       "  'شاهد.. ساعات الجمر الإسرائيلية يوم 7 أكتوبر',\n",
       "  'تلغراف: بن غفير ممنوع من اجتماعات استخباراتية بعد عدة تسريبات',\n",
       "  'شاهد.. سرايا القدس تفجر دبابة وتستدرج قوات إسرائيلية لكمين في خان يونس',\n",
       "  'منير العكش: مصير الهنود الحمر و”المعنى الإسرائيلي لأميركا”']}"
      ]
     },
     "execution_count": 6,
     "metadata": {},
     "output_type": "execute_result"
    }
   ],
   "source": [
    "def fetch_headlines():\n",
    "    headlines_by_language = {}\n",
    "    for language, (url, tag) in news_sites.items():\n",
    "        response = requests.get(url)\n",
    "        soup = bs4.BeautifulSoup(response.text, 'lxml')\n",
    "        headlines = [h.getText() for h in soup.select(tag)[:10]]\n",
    "        headlines_by_language[language] = headlines\n",
    "    return headlines_by_language\n",
    "fetch_headlines()\n"
   ]
  },
  {
   "cell_type": "code",
   "execution_count": 7,
   "id": "889344ff-da73-499f-b1bc-5e28fc47cc2d",
   "metadata": {},
   "outputs": [],
   "source": [
    "def translate_headlines(headlines_by_language):\n",
    "    translated_headlines = {}\n",
    "    for language, headlines in headlines_by_language.items():\n",
    "        translated_headlines[language] = []\n",
    "        for headline in headlines:\n",
    "            response = openai.Completion.create(\n",
    "                model=\"gpt-3.5-turbo-instruct\",\n",
    "                prompt=f\"Translate the following {language} headline into English: \\\"{headline}\\\"\",\n",
    "                temperature=0.3,\n",
    "                max_tokens=60\n",
    "            )\n",
    "            translated_headline = response.choices[0].text.strip()\n",
    "            translated_headlines[language].append(translated_headline)\n",
    "    return translated_headlines\n",
    "headlines_by_language = fetch_headlines()\n",
    "translated_headlines = translate_headlines(headlines_by_language)"
   ]
  },
  {
   "cell_type": "code",
   "execution_count": 8,
   "id": "9aec9adb-8545-4c23-a613-5a714b421669",
   "metadata": {},
   "outputs": [
    {
     "name": "stdout",
     "output_type": "stream",
     "text": [
      "{'chinese': ['\"Special Topic: Press Conference for the Second Session of the 14th National Committee of the Chinese People\\'s Political Consultative Conference\"', \"The 14th National People's Congress will hold a press conference at 12:00 on March 4th.\", '\"International Community Focused on China\\'s Two Sessions, Awaiting Greater Contribution to Global Development\"', '\"Shaanxi National Committee Members Shoulder the Heavy Responsibility of Representing the People of Qin, Eagerly Attending the National Conference in Beijing\"', '\"Seize the Opportunities of the Era, Draw a Unified Circle Together - National Committee Members of the CPPCC Actively Fulfill their Duties, Providing Suggestions and Proposals\"', '\"Li Jieyi: CPPCC Will Continue to Focus on Providing Suggestions and Efforts for China\\'s Modernization Goals\"', '\"Highlights of the first press conference of this year\\'s two sessions have been announced\"', '\"National Ear Care Day: 6 Questions and Answers to Help You Understand How to \"Love Your Ears\"\"', \"Liu Jieyi: China's Long-Term Positive Economic Trend Will Continue to Consolidate and Strengthen\", 'The 14th National Committee of the Chinese People\\'s Political Consultative Conference will hold three \"Member Channels\" during the 6-day session of the Second Session.'], 'arabic': ['\"War on Gaza: Occupation intensifies shelling of Rafah and escalates in the West Bank\"', '\"Audio Recording Shows Israeli Soldiers Killing Two Prisoners in Gaza Despite Their Pleas for Help\"', '\"Audio Recording Shows Israeli Soldiers Killing Two Prisoners in Gaza Despite Their Pleas for Help\"', '\"US Vice President: What We See in Gaza is Devastating and a Ceasefire Must Be Declared...\"', '\"Hamas confirms its seriousness in negotiations and reports of Israel\\'s boycott of the Cairo meeting\"', '\"The Latest Incident in Jenin.. Why Does the Authority Insist on Pursuing Resistance in the West Bank?\"', '\"Watch... Israeli Fire Hours on October 7th\"', '\"Telegraph: Ben Ghafir Banned from Intelligence Meetings After Several Leaks\"', '\"Watch... Al-Quds Brigades Blow Up Tank and Lure Israeli Forces into Ambush in Khan Yunis\"', '\"Miner Al-Akash: The Fate of Native Americans and the Israeli Meaning of America\"']}\n"
     ]
    }
   ],
   "source": [
    "print(translated_headlines)"
   ]
  },
  {
   "cell_type": "code",
   "execution_count": 9,
   "id": "14530342-b9a7-4dc0-8f74-c9cc2009b205",
   "metadata": {
    "scrolled": true
   },
   "outputs": [
    {
     "name": "stdout",
     "output_type": "stream",
     "text": [
      "Language: chinese\n",
      "Headline: '\"Special Topic: Press Conference for the Second Session of the 14th National Committee of the Chinese People's Political Consultative Conference\"'\n",
      "Label: neutral, Score: 0.91\n",
      "---\n",
      "Language: chinese\n",
      "Headline: 'The 14th National People's Congress will hold a press conference at 12:00 on March 4th.'\n",
      "Label: neutral, Score: 0.82\n",
      "---\n",
      "Language: chinese\n",
      "Headline: '\"International Community Focused on China's Two Sessions, Awaiting Greater Contribution to Global Development\"'\n",
      "Label: positive, Score: 0.64\n",
      "---\n",
      "Language: chinese\n",
      "Headline: '\"Shaanxi National Committee Members Shoulder the Heavy Responsibility of Representing the People of Qin, Eagerly Attending the National Conference in Beijing\"'\n",
      "Label: positive, Score: 0.60\n",
      "---\n",
      "Language: chinese\n",
      "Headline: '\"Seize the Opportunities of the Era, Draw a Unified Circle Together - National Committee Members of the CPPCC Actively Fulfill their Duties, Providing Suggestions and Proposals\"'\n",
      "Label: positive, Score: 0.63\n",
      "---\n",
      "Language: chinese\n",
      "Headline: '\"Li Jieyi: CPPCC Will Continue to Focus on Providing Suggestions and Efforts for China's Modernization Goals\"'\n",
      "Label: positive, Score: 0.64\n",
      "---\n",
      "Language: chinese\n",
      "Headline: '\"Highlights of the first press conference of this year's two sessions have been announced\"'\n",
      "Label: positive, Score: 0.64\n",
      "---\n",
      "Language: chinese\n",
      "Headline: '\"National Ear Care Day: 6 Questions and Answers to Help You Understand How to \"Love Your Ears\"\"'\n",
      "Label: neutral, Score: 0.55\n",
      "---\n",
      "Language: chinese\n",
      "Headline: 'Liu Jieyi: China's Long-Term Positive Economic Trend Will Continue to Consolidate and Strengthen'\n",
      "Label: positive, Score: 0.78\n",
      "---\n",
      "Language: chinese\n",
      "Headline: 'The 14th National Committee of the Chinese People's Political Consultative Conference will hold three \"Member Channels\" during the 6-day session of the Second Session.'\n",
      "Label: neutral, Score: 0.84\n",
      "---\n",
      "Language: arabic\n",
      "Headline: '\"War on Gaza: Occupation intensifies shelling of Rafah and escalates in the West Bank\"'\n",
      "Label: negative, Score: 0.79\n",
      "---\n",
      "Language: arabic\n",
      "Headline: '\"Audio Recording Shows Israeli Soldiers Killing Two Prisoners in Gaza Despite Their Pleas for Help\"'\n",
      "Label: negative, Score: 0.71\n",
      "---\n",
      "Language: arabic\n",
      "Headline: '\"Audio Recording Shows Israeli Soldiers Killing Two Prisoners in Gaza Despite Their Pleas for Help\"'\n",
      "Label: negative, Score: 0.71\n",
      "---\n",
      "Language: arabic\n",
      "Headline: '\"US Vice President: What We See in Gaza is Devastating and a Ceasefire Must Be Declared...\"'\n",
      "Label: negative, Score: 0.91\n",
      "---\n",
      "Language: arabic\n",
      "Headline: '\"Hamas confirms its seriousness in negotiations and reports of Israel's boycott of the Cairo meeting\"'\n",
      "Label: negative, Score: 0.71\n",
      "---\n",
      "Language: arabic\n",
      "Headline: '\"The Latest Incident in Jenin.. Why Does the Authority Insist on Pursuing Resistance in the West Bank?\"'\n",
      "Label: negative, Score: 0.83\n",
      "---\n",
      "Language: arabic\n",
      "Headline: '\"Watch... Israeli Fire Hours on October 7th\"'\n",
      "Label: neutral, Score: 0.88\n",
      "---\n",
      "Language: arabic\n",
      "Headline: '\"Telegraph: Ben Ghafir Banned from Intelligence Meetings After Several Leaks\"'\n",
      "Label: negative, Score: 0.75\n",
      "---\n",
      "Language: arabic\n",
      "Headline: '\"Watch... Al-Quds Brigades Blow Up Tank and Lure Israeli Forces into Ambush in Khan Yunis\"'\n",
      "Label: negative, Score: 0.46\n",
      "---\n",
      "Language: arabic\n",
      "Headline: '\"Miner Al-Akash: The Fate of Native Americans and the Israeli Meaning of America\"'\n",
      "Label: negative, Score: 0.78\n",
      "---\n"
     ]
    }
   ],
   "source": [
    "from transformers import pipeline\n",
    "\n",
    "def analyze_sentiment_and_print(translated_headlines):\n",
    "    sentiment_pipeline = pipeline(\"sentiment-analysis\", model=\"cardiffnlp/twitter-xlm-roberta-base-sentiment\")\n",
    "    \n",
    "    for language, headlines in translated_headlines.items():\n",
    "        # print(f\"Language: {language}\")\n",
    "        for headline in headlines:\n",
    "            sentiment = sentiment_pipeline(headline)\n",
    "            print(f\"Language: {language}\")\n",
    "            print(f\"Headline: '{headline}'\")\n",
    "            print(f\"Label: {sentiment[0]['label']}, Score: {sentiment[0]['score']:.2f}\")\n",
    "            print(\"---\")  # Separator for readability\n",
    "    \n",
    "\n",
    "# Assuming translated_headlines is your dictionary of translated headlines\n",
    "analyze_sentiment_and_print(translated_headlines)\n"
   ]
  },
  {
   "cell_type": "code",
   "execution_count": null,
   "id": "a5a25dfa-7bd0-4a79-ab18-499f7565451f",
   "metadata": {},
   "outputs": [],
   "source": []
  },
  {
   "cell_type": "code",
   "execution_count": 10,
   "id": "1ced58f6-b3f8-4470-ba54-ed8fc0570037",
   "metadata": {},
   "outputs": [
    {
     "name": "stdout",
     "output_type": "stream",
     "text": [
      "[{'language': 'chinese', 'text': '\"Special Topic: Press Conference for the Second Session of the 14th National Committee of the Chinese People\\'s Political Consultative Conference\"', 'label': 'neutral', 'score': 0.9126659035682678}, {'language': 'chinese', 'text': \"The 14th National People's Congress will hold a press conference at 12:00 on March 4th.\", 'label': 'neutral', 'score': 0.8165149688720703}, {'language': 'chinese', 'text': '\"International Community Focused on China\\'s Two Sessions, Awaiting Greater Contribution to Global Development\"', 'label': 'positive', 'score': 0.6414292454719543}, {'language': 'chinese', 'text': '\"Shaanxi National Committee Members Shoulder the Heavy Responsibility of Representing the People of Qin, Eagerly Attending the National Conference in Beijing\"', 'label': 'positive', 'score': 0.5980495810508728}, {'language': 'chinese', 'text': '\"Seize the Opportunities of the Era, Draw a Unified Circle Together - National Committee Members of the CPPCC Actively Fulfill their Duties, Providing Suggestions and Proposals\"', 'label': 'positive', 'score': 0.6313087940216064}, {'language': 'chinese', 'text': '\"Li Jieyi: CPPCC Will Continue to Focus on Providing Suggestions and Efforts for China\\'s Modernization Goals\"', 'label': 'positive', 'score': 0.6443715691566467}, {'language': 'chinese', 'text': '\"Highlights of the first press conference of this year\\'s two sessions have been announced\"', 'label': 'positive', 'score': 0.6359477639198303}, {'language': 'chinese', 'text': '\"National Ear Care Day: 6 Questions and Answers to Help You Understand How to \"Love Your Ears\"\"', 'label': 'neutral', 'score': 0.5507015585899353}, {'language': 'chinese', 'text': \"Liu Jieyi: China's Long-Term Positive Economic Trend Will Continue to Consolidate and Strengthen\", 'label': 'positive', 'score': 0.7818118333816528}, {'language': 'chinese', 'text': 'The 14th National Committee of the Chinese People\\'s Political Consultative Conference will hold three \"Member Channels\" during the 6-day session of the Second Session.', 'label': 'neutral', 'score': 0.8381708860397339}, {'language': 'arabic', 'text': '\"War on Gaza: Occupation intensifies shelling of Rafah and escalates in the West Bank\"', 'label': 'negative', 'score': 0.7897250652313232}, {'language': 'arabic', 'text': '\"Audio Recording Shows Israeli Soldiers Killing Two Prisoners in Gaza Despite Their Pleas for Help\"', 'label': 'negative', 'score': 0.7105048894882202}, {'language': 'arabic', 'text': '\"Audio Recording Shows Israeli Soldiers Killing Two Prisoners in Gaza Despite Their Pleas for Help\"', 'label': 'negative', 'score': 0.7105048894882202}, {'language': 'arabic', 'text': '\"US Vice President: What We See in Gaza is Devastating and a Ceasefire Must Be Declared...\"', 'label': 'negative', 'score': 0.9096364378929138}, {'language': 'arabic', 'text': '\"Hamas confirms its seriousness in negotiations and reports of Israel\\'s boycott of the Cairo meeting\"', 'label': 'negative', 'score': 0.7062647342681885}, {'language': 'arabic', 'text': '\"The Latest Incident in Jenin.. Why Does the Authority Insist on Pursuing Resistance in the West Bank?\"', 'label': 'negative', 'score': 0.8271576166152954}, {'language': 'arabic', 'text': '\"Watch... Israeli Fire Hours on October 7th\"', 'label': 'neutral', 'score': 0.8772227168083191}, {'language': 'arabic', 'text': '\"Telegraph: Ben Ghafir Banned from Intelligence Meetings After Several Leaks\"', 'label': 'negative', 'score': 0.7467102408409119}, {'language': 'arabic', 'text': '\"Watch... Al-Quds Brigades Blow Up Tank and Lure Israeli Forces into Ambush in Khan Yunis\"', 'label': 'negative', 'score': 0.45618706941604614}, {'language': 'arabic', 'text': '\"Miner Al-Akash: The Fate of Native Americans and the Israeli Meaning of America\"', 'label': 'negative', 'score': 0.7792729139328003}]\n"
     ]
    }
   ],
   "source": [
    "from transformers import pipeline\n",
    "\n",
    "def analyze_sentiment_and_get_results(translated_headlines):\n",
    "  \"\"\"\n",
    "  Analyzes sentiment for each headline in the translated_headlines dictionary and returns a list of dictionaries.\n",
    "\n",
    "  Args:\n",
    "      translated_headlines: A dictionary containing translated headlines, where keys are languages and values are lists of headlines.\n",
    "\n",
    "  Returns:\n",
    "      A list of dictionaries, where each dictionary holds the text, label, and score for a headline.\n",
    "  \"\"\"\n",
    "  sentiment_pipeline = pipeline(\"sentiment-analysis\", model=\"cardiffnlp/twitter-xlm-roberta-base-sentiment\")\n",
    "  results = []\n",
    "\n",
    "  for language, headlines in translated_headlines.items():\n",
    "    for headline in headlines:\n",
    "      sentiment = sentiment_pipeline(headline)\n",
    "      # Extract label and score\n",
    "\n",
    "      label = sentiment[0]['label']\n",
    "      score = sentiment[0]['score']\n",
    "\n",
    "    # return analyzed_headlines\n",
    "        \n",
    "      # Create a dictionary for each headline and its analysis\n",
    "      result = {\n",
    "        'language': language,\n",
    "          \"text\": headline,\n",
    "          \"label\": label,\n",
    "          \"score\": score,\n",
    "      }\n",
    "      results.append(result)\n",
    "  return results\n",
    "\n",
    "# Assuming translated_headlines is your dictionary of translated headlines\n",
    "results = analyze_sentiment_and_get_results(translated_headlines)\n",
    "print(results)"
   ]
  },
  {
   "cell_type": "code",
   "execution_count": 11,
   "id": "b4e25a00-8a46-4193-a704-94eb5ace7f47",
   "metadata": {},
   "outputs": [
    {
     "name": "stdout",
     "output_type": "stream",
     "text": [
      "{'language': 'chinese', 'text': '\"International Community Focused on China\\'s Two Sessions, Awaiting Greater Contribution to Global Development\"', 'label': 'positive', 'score': 0.6414292454719543, 'categ_score': 2}\n"
     ]
    }
   ],
   "source": [
    "for row in results: \n",
    "    if row['label'] == 'negative':\n",
    "        if row['score'] > 0.7:\n",
    "            row['categ_score'] = -2\n",
    "        else: \n",
    "            row['categ_score'] = -1\n",
    "    elif row['label'] == 'positive':\n",
    "        if row['score'] > 0.7:\n",
    "            row['categ_score'] = 3\n",
    "        else:\n",
    "            row['categ_score'] = 2\n",
    "    else:\n",
    "        row['categ_score'] = 1\n",
    "print(results[2]) "
   ]
  },
  {
   "cell_type": "code",
   "execution_count": 12,
   "id": "84e54316-8c86-4562-a138-58c2ca1f1b74",
   "metadata": {},
   "outputs": [],
   "source": [
    "import pandas as pd \n",
    "\n",
    "chinese_data = []\n",
    "arabic_data = []\n",
    "\n",
    "# Iterate through the results and add elements to respective lists\n",
    "for item in results:\n",
    "  if item[\"language\"] == \"chinese\":\n",
    "    chinese_data.append(item)\n",
    "  elif item[\"language\"] == \"arabic\":\n",
    "    arabic_data.append(item)\n",
    "\n",
    "# Create DataFrames from lists\n",
    "chinese_df = pd.DataFrame(chinese_data)\n",
    "arabic_df = pd.DataFrame(arabic_data)\n",
    "\n"
   ]
  },
  {
   "cell_type": "code",
   "execution_count": 13,
   "id": "f7683033-80d0-47f9-b744-16f0e04d9399",
   "metadata": {},
   "outputs": [
    {
     "name": "stdout",
     "output_type": "stream",
     "text": [
      "Chinese headlines:\n",
      "  language                                               text     label  \\\n",
      "0  chinese  \"Special Topic: Press Conference for the Secon...   neutral   \n",
      "1  chinese  The 14th National People's Congress will hold ...   neutral   \n",
      "2  chinese  \"International Community Focused on China's Tw...  positive   \n",
      "3  chinese  \"Shaanxi National Committee Members Shoulder t...  positive   \n",
      "4  chinese  \"Seize the Opportunities of the Era, Draw a Un...  positive   \n",
      "5  chinese  \"Li Jieyi: CPPCC Will Continue to Focus on Pro...  positive   \n",
      "6  chinese  \"Highlights of the first press conference of t...  positive   \n",
      "7  chinese  \"National Ear Care Day: 6 Questions and Answer...   neutral   \n",
      "8  chinese  Liu Jieyi: China's Long-Term Positive Economic...  positive   \n",
      "9  chinese  The 14th National Committee of the Chinese Peo...   neutral   \n",
      "\n",
      "      score  categ_score  \n",
      "0  0.912666            1  \n",
      "1  0.816515            1  \n",
      "2  0.641429            2  \n",
      "3  0.598050            2  \n",
      "4  0.631309            2  \n",
      "5  0.644372            2  \n",
      "6  0.635948            2  \n",
      "7  0.550702            1  \n",
      "8  0.781812            3  \n",
      "9  0.838171            1  \n",
      "\n",
      "Arabic headlines:\n",
      "  language                                               text     label  \\\n",
      "0   arabic  \"War on Gaza: Occupation intensifies shelling ...  negative   \n",
      "1   arabic  \"Audio Recording Shows Israeli Soldiers Killin...  negative   \n",
      "2   arabic  \"Audio Recording Shows Israeli Soldiers Killin...  negative   \n",
      "3   arabic  \"US Vice President: What We See in Gaza is Dev...  negative   \n",
      "4   arabic  \"Hamas confirms its seriousness in negotiation...  negative   \n",
      "5   arabic  \"The Latest Incident in Jenin.. Why Does the A...  negative   \n",
      "6   arabic       \"Watch... Israeli Fire Hours on October 7th\"   neutral   \n",
      "7   arabic  \"Telegraph: Ben Ghafir Banned from Intelligenc...  negative   \n",
      "8   arabic  \"Watch... Al-Quds Brigades Blow Up Tank and Lu...  negative   \n",
      "9   arabic  \"Miner Al-Akash: The Fate of Native Americans ...  negative   \n",
      "\n",
      "      score  categ_score  \n",
      "0  0.789725           -2  \n",
      "1  0.710505           -2  \n",
      "2  0.710505           -2  \n",
      "3  0.909636           -2  \n",
      "4  0.706265           -2  \n",
      "5  0.827158           -2  \n",
      "6  0.877223            1  \n",
      "7  0.746710           -2  \n",
      "8  0.456187           -1  \n",
      "9  0.779273           -2  \n"
     ]
    }
   ],
   "source": [
    "# Print the DataFrames\n",
    "print(\"Chinese headlines:\")\n",
    "print(chinese_df)\n",
    "print(\"\\nArabic headlines:\")\n",
    "print(arabic_df)\n"
   ]
  },
  {
   "cell_type": "code",
   "execution_count": 14,
   "id": "bb2f57da-4176-4bdd-9881-d8eeb65823d0",
   "metadata": {},
   "outputs": [],
   "source": [
    "chinese_df.to_csv(\"chinese.csv\")"
   ]
  },
  {
   "cell_type": "code",
   "execution_count": 15,
   "id": "fadeb916-f1df-40c4-ba6e-08d0b32607c4",
   "metadata": {},
   "outputs": [],
   "source": [
    "arabic_df.to_csv(\"arabic.csv\")"
   ]
  },
  {
   "cell_type": "code",
   "execution_count": 16,
   "id": "5195911e-8956-4151-a340-66d624e0ecf0",
   "metadata": {},
   "outputs": [
    {
     "name": "stdout",
     "output_type": "stream",
     "text": [
      "huggingface/tokenizers: The current process just got forked, after parallelism has already been used. Disabling parallelism to avoid deadlocks...\n",
      "To disable this warning, you can either:\n",
      "\t- Avoid using `tokenizers` before the fork if possible\n",
      "\t- Explicitly set the environment variable TOKENIZERS_PARALLELISM=(true | false)\n",
      "GPTdf-bylanguage.ipynb    GPTtrans-sentiment.qmd    arabic.csv\n",
      "GPTdf-gemini.ipynb        \u001b[1m\u001b[36mGPTtrans-sentiment_files\u001b[m\u001b[m/ chinese.csv\n",
      "GPTdf-manual.ipynb        GPTtranslate.ipynb        clean_GPTscrape.ipynb\n",
      "GPTdf-russian.ipynb       GPTviz-gemini.ipynb       results.csv\n",
      "GPTscrape.ipynb           GPTviz-mistral.ipynb      wider_GPTscrape.ipynb\n",
      "GPTtrans-sentiment.ipynb  README.md\n"
     ]
    }
   ],
   "source": [
    "ls"
   ]
  },
  {
   "cell_type": "code",
   "execution_count": null,
   "id": "d5f00c5b-43d3-456e-a8bc-c2bb85a4acb6",
   "metadata": {},
   "outputs": [],
   "source": []
  },
  {
   "cell_type": "code",
   "execution_count": null,
   "id": "07a498be-fa04-4ebd-affa-3a71685ca11e",
   "metadata": {},
   "outputs": [],
   "source": []
  },
  {
   "cell_type": "code",
   "execution_count": null,
   "id": "fc0c34d5-9c9a-436c-b316-056b141b7bc0",
   "metadata": {},
   "outputs": [],
   "source": []
  },
  {
   "cell_type": "code",
   "execution_count": 17,
   "id": "9b186aa2-5456-4335-ae86-7715c5e2ce16",
   "metadata": {},
   "outputs": [],
   "source": [
    "# from transformers import pipeline\n",
    "\n",
    "# def analyze_sentiment_and_print(translated_headlines):\n",
    "#     sentiment_pipeline = pipeline(\"sentiment-analysis\", model=\"cardiffnlp/twitter-xlm-roberta-base-sentiment\")\n",
    "    \n",
    "#     for language, headlines in translated_headlines.items():\n",
    "#         # print(f\"Language: {language}\")\n",
    "#         for headline in headlines:\n",
    "#             sentiment = sentiment_pipeline(headline)\n",
    "#             print(f\"Language: {language}\")\n",
    "#             print(f\"Headline: '{headline}'\")\n",
    "#             print(f\"Label: {sentiment[0]['label']}, Score: {sentiment[0]['score']:.2f}\")\n",
    "#             print(\"---\")  # Separator for readability\n",
    "#     # return analyzed_headlines\n",
    "# # Assuming translated_headlines is your dictionary of translated headlines\n",
    "# analyze_sentiment_and_print(translated_headlines)\n"
   ]
  },
  {
   "cell_type": "code",
   "execution_count": null,
   "id": "38495cdc-6a28-4565-9829-43028fe4a396",
   "metadata": {},
   "outputs": [],
   "source": []
  },
  {
   "cell_type": "code",
   "execution_count": 18,
   "id": "72e2bfe6-2aec-4dd7-9cc5-809f593a46c6",
   "metadata": {},
   "outputs": [],
   "source": [
    "# for row in results: \n",
    "#     if row['label'] == 'negative':\n",
    "#         if row['score'] > 0.7:\n",
    "#             row['categ_score'] = -2\n",
    "#         else: \n",
    "#             row['categ_score'] = -1\n",
    "#     elif row['label'] == 'positive':\n",
    "#         if row['score'] > 0.7:\n",
    "#             row['categ_score'] = 3\n",
    "#         else:\n",
    "#             row['categ_score'] = 2\n",
    "#     else:\n",
    "#         row['categ_score'] = 1\n",
    "# print(results[2]) "
   ]
  },
  {
   "cell_type": "code",
   "execution_count": null,
   "id": "4ffb51d9-3f70-4393-b131-548a375dab02",
   "metadata": {},
   "outputs": [],
   "source": []
  },
  {
   "cell_type": "code",
   "execution_count": null,
   "id": "b4d99ff4-6bef-45df-a87f-fc3a97628a7d",
   "metadata": {},
   "outputs": [],
   "source": []
  },
  {
   "cell_type": "code",
   "execution_count": null,
   "id": "3efd42c3-0f53-43dc-8d10-5afafc9e95df",
   "metadata": {},
   "outputs": [],
   "source": []
  },
  {
   "cell_type": "code",
   "execution_count": null,
   "id": "8d7d0b0e-f36f-44b4-8a04-1b1d7c89acc0",
   "metadata": {},
   "outputs": [],
   "source": []
  },
  {
   "cell_type": "code",
   "execution_count": 19,
   "id": "cc920a91-5d3f-4d05-868c-8711de89916a",
   "metadata": {},
   "outputs": [],
   "source": [
    "# import pandas as pd\n",
    "# resultsdf = pd.DataFrame(results)\n",
    "# resultsdf "
   ]
  },
  {
   "cell_type": "code",
   "execution_count": 20,
   "id": "e5ebbe5f-6469-4d47-8b67-e0cb673b5030",
   "metadata": {},
   "outputs": [],
   "source": [
    "# What I'm going to work next: \n",
    "# Find free websites in German, French, Spanish, Russian\n",
    "# Translate all the main headlines \n",
    "# Do a sentiment analysis on the headlines using a LLM\n",
    "# calculate the avg and median scores for each language\n",
    "#COMPARE the total score for each language's website "
   ]
  },
  {
   "cell_type": "code",
   "execution_count": 21,
   "id": "e5af7c19-d0b0-4f31-91ba-1f8a08bc13a1",
   "metadata": {},
   "outputs": [],
   "source": [
    "#FIND PYTHON library to visualize DIRECTLY on jupyter notebook"
   ]
  },
  {
   "cell_type": "code",
   "execution_count": null,
   "id": "b6e8d263-6f40-4bbc-9f38-2d621444f71c",
   "metadata": {},
   "outputs": [],
   "source": []
  }
 ],
 "metadata": {
  "kernelspec": {
   "display_name": "Python 3 (ipykernel)",
   "language": "python",
   "name": "python3"
  },
  "language_info": {
   "codemirror_mode": {
    "name": "ipython",
    "version": 3
   },
   "file_extension": ".py",
   "mimetype": "text/x-python",
   "name": "python",
   "nbconvert_exporter": "python",
   "pygments_lexer": "ipython3",
   "version": "3.10.11"
  }
 },
 "nbformat": 4,
 "nbformat_minor": 5
}
